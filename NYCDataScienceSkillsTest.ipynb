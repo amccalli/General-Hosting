{
 "cells": [
  {
   "cell_type": "markdown",
   "metadata": {},
   "source": [
    "# Question 1"
   ]
  },
  {
   "cell_type": "markdown",
   "metadata": {},
   "source": [
    "You work for a real estate development company that is trying to determine the perimeter of a lake. The company is planning to split up the land around the lake into different properties.\n",
    "\n",
    "As you examine the lake, you notice that a particular oddity manifests. From an aerial view, the lake shore looks smooth like a curve. However, as you zoom in and take a closer look you notice that the lake shore has ridges and nooks. If you walk around the lake, you see that the ridges and nooks have smaller ridges and nooks of their own (see picture).\n",
    "\n",
    "Formulate a discussion that addresses this issue and propose a method that would best approximate the perimeter of the lake:"
   ]
  },
  {
   "cell_type": "markdown",
   "metadata": {},
   "source": [
    "I assume we would be working from some sort of arial photo that is taken from more or less straight above such that the shore is visible (not blocked with trees as in the  photo shown in the prompt).  What I would begin doing is attempting to adjust the photo give the most realistic measurements of the lake.  This means for any angle at which the phtoto was taken we could account for it with an affine transform, if the angle at which the picture was taken is known that is easy enough.  If we know the lens and there is an associated distortion with it we would transform the image to undo this and get most realistic geometery. If these things exist but are unknown, it would be more difficult and I would need to learn more about estimating unknown lens aberations and affine transforms. From there, I would would create a binary mask of the lake, it may be useful to apply some sort of edge-preseving smoothing such as a bilateral filter if there is enough noise to create problems in the mask creation.\n",
    "\n",
    "We would then fit either a polygon or some sort of curve like a spline to the binary mask.  As stated in the question, the more you zoom in, the more you ridges and nooks that you see.  This means that the more polygon verticies that we allow or the more knots in the spline we allow, the more of these small features that will be fit.  I assume that the company developing the area doesn't care too much about the small features and are instead more interested in lake-front footage when divying up the properties. If we allow too many knots or verticies, the lake will be over-fit for what they are interested in. if we use to few, it will be poorly fit and inaccurate. Similar to determining model for graphical data fits, we could fit for a range of different knots or verticies and used something equivalent to reduced R-squared or baysean information criterion that not only measures goodness of fit but penalizes for number of model parameters, in this case, the number of knots of verticies.  Once the optimal number is chosen, we should be able to easily estimate the perimeter."
   ]
  },
  {
   "cell_type": "markdown",
   "metadata": {},
   "source": [
    "# Question 2"
   ]
  },
  {
   "cell_type": "markdown",
   "metadata": {},
   "source": [
    "You work for a shipping company and your manager receives orders from various customers every day (some existing, some new). Your manager wishes to establish a process to automate tracking the orders received by the company. You can assume the daily data arrives as a list/array/vector of strings and follows this exact format (note that customers may place separate orders in a single day):\n",
    "\n",
    "day_i = [“Bob:100”, “Alice:100”, “Celia:110”, “Bob:20”, etc...]\n",
    "\n",
    "Write a script that, when given the daily data, will keep track of the total purchase amount for each customer. You can assume that the data “day_i” already exists in memory (i.e. you don’t need to read it from a text file or database).\n",
    "\n",
    "day_i = [“Bob:100”, “Alice:100”, “Celia:110”, “Bob:20”]"
   ]
  },
  {
   "cell_type": "code",
   "execution_count": 3,
   "metadata": {},
   "outputs": [],
   "source": [
    "import pandas as pd\n",
    "import numpy as np"
   ]
  },
  {
   "cell_type": "code",
   "execution_count": 10,
   "metadata": {},
   "outputs": [],
   "source": [
    "day_i = ['Bob:100', 'Alice:100', 'Celia:110', 'Bob:20']"
   ]
  },
  {
   "cell_type": "code",
   "execution_count": 85,
   "metadata": {},
   "outputs": [],
   "source": [
    "def create_df_from_list(day_list):\n",
    "    day_df = pd.DataFrame(day_list)\n",
    "    day_df=day_df[0].str.split(':',n=1,expand=True)\n",
    "    day_df[1]=day_df[1].astype(float)\n",
    "    day_df=day_df.groupby(0).sum().reset_index()\n",
    "    day_df=day_df.rename(columns = {0:'Customer',1:'Total Purchase'})\n",
    "    return day_df"
   ]
  },
  {
   "cell_type": "code",
   "execution_count": 86,
   "metadata": {},
   "outputs": [
    {
     "data": {
      "text/html": [
       "<div>\n",
       "<style scoped>\n",
       "    .dataframe tbody tr th:only-of-type {\n",
       "        vertical-align: middle;\n",
       "    }\n",
       "\n",
       "    .dataframe tbody tr th {\n",
       "        vertical-align: top;\n",
       "    }\n",
       "\n",
       "    .dataframe thead th {\n",
       "        text-align: right;\n",
       "    }\n",
       "</style>\n",
       "<table border=\"1\" class=\"dataframe\">\n",
       "  <thead>\n",
       "    <tr style=\"text-align: right;\">\n",
       "      <th></th>\n",
       "      <th>Customer</th>\n",
       "      <th>Total Purchase</th>\n",
       "    </tr>\n",
       "  </thead>\n",
       "  <tbody>\n",
       "    <tr>\n",
       "      <td>0</td>\n",
       "      <td>Alice</td>\n",
       "      <td>100.0</td>\n",
       "    </tr>\n",
       "    <tr>\n",
       "      <td>1</td>\n",
       "      <td>Bob</td>\n",
       "      <td>120.0</td>\n",
       "    </tr>\n",
       "    <tr>\n",
       "      <td>2</td>\n",
       "      <td>Celia</td>\n",
       "      <td>110.0</td>\n",
       "    </tr>\n",
       "  </tbody>\n",
       "</table>\n",
       "</div>"
      ],
      "text/plain": [
       "  Customer  Total Purchase\n",
       "0    Alice           100.0\n",
       "1      Bob           120.0\n",
       "2    Celia           110.0"
      ]
     },
     "execution_count": 86,
     "metadata": {},
     "output_type": "execute_result"
    }
   ],
   "source": [
    "create_df_from_list(day_i)"
   ]
  },
  {
   "cell_type": "markdown",
   "metadata": {},
   "source": [
    "# Question 3"
   ]
  },
  {
   "cell_type": "markdown",
   "metadata": {},
   "source": [
    " You work for a professional psychic. Unfortunately, this particular psychic has trouble reading minds, which is a service she would like to offer her clients. The psychic hires you to write a script that will correctly guess an unknown integer that has been picked by her client. The script should accept a lower and upper bound which is provided by the client and should use the minimum number of guesses to discover the unknown integer. The unknown integer will always lie within the lower and upper bounds specified by the client.\n",
    " \n",
    "The script should not have access to the unknown integer when the code initially runs. The client can give input in only two ways: specifying the lower and upper bounds; and by answering yes/no questions. Write the code to perform this task."
   ]
  },
  {
   "cell_type": "code",
   "execution_count": 8,
   "metadata": {},
   "outputs": [],
   "source": [
    "def guess_number():\n",
    "    upper = np.int16(input(\"What is you upper bound?: \"))\n",
    "    lower = np.int16(input(\"What is you lower bound?: \"))\n",
    "    known = False\n",
    "    while known == False:\n",
    "        if (upper-lower)>1:\n",
    "            num=np.ceil(np.mean([upper,lower]))\n",
    "            ans=input(\"Is number lower than {}?: \".format(num))\n",
    "            if 'N' in ans or 'n' in ans:\n",
    "                lower = num\n",
    "            else:\n",
    "                upper = num-1\n",
    "        if (upper-lower)<=1:\n",
    "            ans=input(\"Is your number {}?\".format(upper))\n",
    "            if 'N' in ans or 'n' in ans:\n",
    "                final_number=lower\n",
    "                print('Got it! I have divined your number, it is {}'.format(final_number))\n",
    "                known = True\n",
    "            else:\n",
    "                final_number=upper\n",
    "                print('Got it! I have divined your number, it is {}'.format(final_number))\n",
    "                known = True"
   ]
  },
  {
   "cell_type": "code",
   "execution_count": 9,
   "metadata": {},
   "outputs": [
    {
     "name": "stdout",
     "output_type": "stream",
     "text": [
      "What is you upper bound?: 634\n",
      "What is you lower bound?: 254\n",
      "Is number lower than 444.0?: n\n",
      "Is number lower than 539.0?: y\n",
      "Is number lower than 491.0?: y\n",
      "Is number lower than 467.0?: n\n",
      "Is number lower than 479.0?: n\n",
      "Is number lower than 485.0?: n\n",
      "Is number lower than 488.0?: y\n",
      "Is number lower than 486.0?: n\n",
      "Is your number 487.0?n\n",
      "Got it! I have divined your number, it is 486.0\n"
     ]
    }
   ],
   "source": [
    "guess_number()"
   ]
  },
  {
   "cell_type": "markdown",
   "metadata": {},
   "source": [
    "# Question 4"
   ]
  },
  {
   "cell_type": "markdown",
   "metadata": {},
   "source": [
    "In order to ensure that our educational methodology is a good fit for you as a student, please view a sample of a recorded live session from the list below. Address three points that explain how you think NYCDSA teaching methods align with your learning style."
   ]
  },
  {
   "cell_type": "markdown",
   "metadata": {},
   "source": [
    "I watched the clip of the Unsupervised ML Python session and found it to be very informative and easy to follow.  I have previously learned about PCA and the math behind it, however even if I had not, I believe that it was taught in a form that I follow well. \n",
    "\n",
    "1. It was a standard powerpoint lecture and I have always learned well in a lecture setting, while things may be cemented afterwards while doign problem sets or projects, I enjoy a lecture setting and feel that when done correctly can deliver the neccesary information quickly and concisely and give me the beigning of an intuition for the subject matter.\n",
    "\n",
    "\n",
    "2. What I am most interested in and need this program most for is the connection to industry and what is used.  The instructor did a great job of emphasizing what will be used in what industry most, and mentioning specific applications of \n",
    "\n",
    "\n",
    "3. It got cut off before he got to the math part of the PCA, but I thought he did a very good job of giving a simple and intuitive explanantion of what PCA is and what it does. While I like math and have done a lot of linear algebra, I am a very intuative learner and appreciate being given a intuition of what the math is trying to do before going through it."
   ]
  },
  {
   "cell_type": "markdown",
   "metadata": {},
   "source": [
    "Suggestion:\n",
    "\n",
    "There were a couple points where there were the information on the slide differed slightly from what he said or he decided to skip.  While I was able to understand the teacher well and thought it was very well presented on the whole, I was reliant on the slide information to catch up if I got lost and if it was different than what he was saying, I wouldn't be able to figure it out and I would have to rewind the video and re-listen, which I couldn't do in person.  If the slides matched better in some places with what was presented in some places that could make things slightly easier, but I enjoyed the lecture so this is slightly nitpicky. "
   ]
  },
  {
   "cell_type": "code",
   "execution_count": null,
   "metadata": {},
   "outputs": [],
   "source": []
  }
 ],
 "metadata": {
  "kernelspec": {
   "display_name": "Python 3",
   "language": "python",
   "name": "python3"
  },
  "language_info": {
   "codemirror_mode": {
    "name": "ipython",
    "version": 3
   },
   "file_extension": ".py",
   "mimetype": "text/x-python",
   "name": "python",
   "nbconvert_exporter": "python",
   "pygments_lexer": "ipython3",
   "version": "3.7.4"
  }
 },
 "nbformat": 4,
 "nbformat_minor": 2
}
